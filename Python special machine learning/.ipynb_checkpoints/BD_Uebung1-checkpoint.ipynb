{
 "cells": [
  {
   "cell_type": "markdown",
   "metadata": {},
   "source": [
    "# Übungsblatt 1"
   ]
  },
  {
   "cell_type": "markdown",
   "metadata": {},
   "source": [
    "## Aufgabe 1.1"
   ]
  },
  {
   "cell_type": "markdown",
   "metadata": {},
   "source": [
    "Programmieren Sie eine Funktion die überprüft, ob zwei Zahlen miteinander befreundet sind. Zwei Zahlen sind dann miteinander befreundet, wenn die Summe ihrer jeweiligen Teiler (bis auf die Zahl selbst) die jeweils andere Zahl ergibt!"
   ]
  },
  {
   "cell_type": "markdown",
   "metadata": {},
   "source": [
    "### Imports"
   ]
  },
  {
   "cell_type": "code",
   "execution_count": 50,
   "metadata": {},
   "outputs": [],
   "source": [
    "from typing import List"
   ]
  },
  {
   "cell_type": "markdown",
   "metadata": {},
   "source": [
    "### Funktionen"
   ]
  },
  {
   "cell_type": "code",
   "execution_count": 51,
   "metadata": {},
   "outputs": [],
   "source": [
    "def get_teiler(i: int) -> List[int]:\n",
    "    return [teiler for teiler in range(1, i + 1) if i / teiler == int(i / teiler)]"
   ]
  },
  {
   "cell_type": "code",
   "execution_count": 52,
   "metadata": {},
   "outputs": [],
   "source": [
    "def is_befreundet(i1: int, i2: int) -> bool:\n",
    "    return sum(get_teiler(i1)[:-1]) == i2 and sum(get_teiler(i2)[:-1]) == i1"
   ]
  },
  {
   "cell_type": "markdown",
   "metadata": {},
   "source": [
    "### Tests"
   ]
  },
  {
   "cell_type": "markdown",
   "metadata": {},
   "source": [
    "Beispiel:\n",
    "\n",
    "Die Zahl 220 besitzt die Teiler 1, 2, 4, 5, 10, 11, 20, 22, 44, 55, 110 und 220.\n",
    "\n",
    "$$1 + 2 + 4 + 5 + 10 + 11 + 20 + 22 + 44 + 55 + 110 = 284 $$\n",
    "Die Zahl 284 besitzt die Teiler 1, 2, 4, 71, 142 und 284.\n",
    "$$1 + 2 + 4 + 71 + 142 = 220$$\n",
    "220 und 284 sind also befreundete Zahlen"
   ]
  },
  {
   "cell_type": "code",
   "execution_count": 53,
   "metadata": {},
   "outputs": [
    {
     "data": {
      "text/plain": [
       "True"
      ]
     },
     "execution_count": 53,
     "metadata": {},
     "output_type": "execute_result"
    }
   ],
   "source": [
    "is_befreundet(220, 284)"
   ]
  },
  {
   "cell_type": "markdown",
   "metadata": {},
   "source": [
    "Prüfen Sie bitte ihre Funktion mit dem befreundeten __Zahlenpaar (17296,18416)__ und dem nicht befreundeten __Zahlenpaar (9332,9842)__."
   ]
  },
  {
   "cell_type": "code",
   "execution_count": 54,
   "metadata": {},
   "outputs": [
    {
     "data": {
      "text/plain": [
       "True"
      ]
     },
     "execution_count": 54,
     "metadata": {},
     "output_type": "execute_result"
    }
   ],
   "source": [
    "is_befreundet(17296, 18416)"
   ]
  },
  {
   "cell_type": "code",
   "execution_count": 55,
   "metadata": {},
   "outputs": [
    {
     "data": {
      "text/plain": [
       "False"
      ]
     },
     "execution_count": 55,
     "metadata": {},
     "output_type": "execute_result"
    }
   ],
   "source": [
    "is_befreundet(9332, 9842)"
   ]
  },
  {
   "cell_type": "markdown",
   "metadata": {},
   "source": [
    "## Aufgabe 1.2"
   ]
  },
  {
   "cell_type": "markdown",
   "metadata": {},
   "source": [
    "Importieren Sie den Datenmenge __house_data.csv__ als Pandas DataFrame (CSV-Import). Die Datenmenge beinhaltet Daten über verschiedene Häuser in King County, USA und deren Merkmale. Machen Sie sich mit dem Datensatz vertraut. Geben Sie die Datenmenge aus. Welche Attribute sind in der Datenmenge enthalten? Gibt es Auffälligkeiten in den Daten?"
   ]
  },
  {
   "cell_type": "markdown",
   "metadata": {},
   "source": [
    "## Imports"
   ]
  },
  {
   "cell_type": "code",
   "execution_count": 56,
   "metadata": {},
   "outputs": [],
   "source": [
    "import pandas as pd"
   ]
  },
  {
   "cell_type": "markdown",
   "metadata": {},
   "source": [
    "### CSV Daten einlesen"
   ]
  },
  {
   "cell_type": "code",
   "execution_count": 57,
   "metadata": {},
   "outputs": [
    {
     "data": {
      "text/html": [
       "<div>\n",
       "<style scoped>\n",
       "    .dataframe tbody tr th:only-of-type {\n",
       "        vertical-align: middle;\n",
       "    }\n",
       "\n",
       "    .dataframe tbody tr th {\n",
       "        vertical-align: top;\n",
       "    }\n",
       "\n",
       "    .dataframe thead th {\n",
       "        text-align: right;\n",
       "    }\n",
       "</style>\n",
       "<table border=\"1\" class=\"dataframe\">\n",
       "  <thead>\n",
       "    <tr style=\"text-align: right;\">\n",
       "      <th></th>\n",
       "      <th>price</th>\n",
       "      <th>bedrooms</th>\n",
       "      <th>bathrooms</th>\n",
       "      <th>sqft_living</th>\n",
       "      <th>sqft_lot</th>\n",
       "      <th>floors</th>\n",
       "      <th>yr_built</th>\n",
       "      <th>yr_renovated</th>\n",
       "    </tr>\n",
       "    <tr>\n",
       "      <th>ID</th>\n",
       "      <th></th>\n",
       "      <th></th>\n",
       "      <th></th>\n",
       "      <th></th>\n",
       "      <th></th>\n",
       "      <th></th>\n",
       "      <th></th>\n",
       "      <th></th>\n",
       "    </tr>\n",
       "  </thead>\n",
       "  <tbody>\n",
       "    <tr>\n",
       "      <th>0</th>\n",
       "      <td>221900.0</td>\n",
       "      <td>3</td>\n",
       "      <td>1.00</td>\n",
       "      <td>1180</td>\n",
       "      <td>5650</td>\n",
       "      <td>1.0</td>\n",
       "      <td>1955</td>\n",
       "      <td>0</td>\n",
       "    </tr>\n",
       "    <tr>\n",
       "      <th>1</th>\n",
       "      <td>538000.0</td>\n",
       "      <td>3</td>\n",
       "      <td>2.25</td>\n",
       "      <td>2570</td>\n",
       "      <td>7242</td>\n",
       "      <td>2.0</td>\n",
       "      <td>1951</td>\n",
       "      <td>1991</td>\n",
       "    </tr>\n",
       "    <tr>\n",
       "      <th>2</th>\n",
       "      <td>180000.0</td>\n",
       "      <td>2</td>\n",
       "      <td>1.00</td>\n",
       "      <td>770</td>\n",
       "      <td>10000</td>\n",
       "      <td>1.0</td>\n",
       "      <td>1933</td>\n",
       "      <td>0</td>\n",
       "    </tr>\n",
       "    <tr>\n",
       "      <th>3</th>\n",
       "      <td>604000.0</td>\n",
       "      <td>4</td>\n",
       "      <td>3.00</td>\n",
       "      <td>1960</td>\n",
       "      <td>5000</td>\n",
       "      <td>1.0</td>\n",
       "      <td>1965</td>\n",
       "      <td>0</td>\n",
       "    </tr>\n",
       "    <tr>\n",
       "      <th>4</th>\n",
       "      <td>510000.0</td>\n",
       "      <td>3</td>\n",
       "      <td>2.00</td>\n",
       "      <td>1680</td>\n",
       "      <td>8080</td>\n",
       "      <td>1.0</td>\n",
       "      <td>1987</td>\n",
       "      <td>0</td>\n",
       "    </tr>\n",
       "    <tr>\n",
       "      <th>...</th>\n",
       "      <td>...</td>\n",
       "      <td>...</td>\n",
       "      <td>...</td>\n",
       "      <td>...</td>\n",
       "      <td>...</td>\n",
       "      <td>...</td>\n",
       "      <td>...</td>\n",
       "      <td>...</td>\n",
       "    </tr>\n",
       "    <tr>\n",
       "      <th>21608</th>\n",
       "      <td>360000.0</td>\n",
       "      <td>3</td>\n",
       "      <td>2.50</td>\n",
       "      <td>1530</td>\n",
       "      <td>1131</td>\n",
       "      <td>3.0</td>\n",
       "      <td>2009</td>\n",
       "      <td>0</td>\n",
       "    </tr>\n",
       "    <tr>\n",
       "      <th>21609</th>\n",
       "      <td>400000.0</td>\n",
       "      <td>4</td>\n",
       "      <td>2.50</td>\n",
       "      <td>2310</td>\n",
       "      <td>5813</td>\n",
       "      <td>2.0</td>\n",
       "      <td>2014</td>\n",
       "      <td>0</td>\n",
       "    </tr>\n",
       "    <tr>\n",
       "      <th>21610</th>\n",
       "      <td>402101.0</td>\n",
       "      <td>2</td>\n",
       "      <td>0.75</td>\n",
       "      <td>1020</td>\n",
       "      <td>1350</td>\n",
       "      <td>2.0</td>\n",
       "      <td>2009</td>\n",
       "      <td>0</td>\n",
       "    </tr>\n",
       "    <tr>\n",
       "      <th>21611</th>\n",
       "      <td>400000.0</td>\n",
       "      <td>3</td>\n",
       "      <td>2.50</td>\n",
       "      <td>1600</td>\n",
       "      <td>2388</td>\n",
       "      <td>2.0</td>\n",
       "      <td>2004</td>\n",
       "      <td>0</td>\n",
       "    </tr>\n",
       "    <tr>\n",
       "      <th>21612</th>\n",
       "      <td>325000.0</td>\n",
       "      <td>2</td>\n",
       "      <td>0.75</td>\n",
       "      <td>1020</td>\n",
       "      <td>1076</td>\n",
       "      <td>2.0</td>\n",
       "      <td>2008</td>\n",
       "      <td>0</td>\n",
       "    </tr>\n",
       "  </tbody>\n",
       "</table>\n",
       "<p>21613 rows × 8 columns</p>\n",
       "</div>"
      ],
      "text/plain": [
       "          price  bedrooms  bathrooms  sqft_living  sqft_lot  floors  yr_built  \\\n",
       "ID                                                                              \n",
       "0      221900.0         3       1.00         1180      5650     1.0      1955   \n",
       "1      538000.0         3       2.25         2570      7242     2.0      1951   \n",
       "2      180000.0         2       1.00          770     10000     1.0      1933   \n",
       "3      604000.0         4       3.00         1960      5000     1.0      1965   \n",
       "4      510000.0         3       2.00         1680      8080     1.0      1987   \n",
       "...         ...       ...        ...          ...       ...     ...       ...   \n",
       "21608  360000.0         3       2.50         1530      1131     3.0      2009   \n",
       "21609  400000.0         4       2.50         2310      5813     2.0      2014   \n",
       "21610  402101.0         2       0.75         1020      1350     2.0      2009   \n",
       "21611  400000.0         3       2.50         1600      2388     2.0      2004   \n",
       "21612  325000.0         2       0.75         1020      1076     2.0      2008   \n",
       "\n",
       "       yr_renovated  \n",
       "ID                   \n",
       "0                 0  \n",
       "1              1991  \n",
       "2                 0  \n",
       "3                 0  \n",
       "4                 0  \n",
       "...             ...  \n",
       "21608             0  \n",
       "21609             0  \n",
       "21610             0  \n",
       "21611             0  \n",
       "21612             0  \n",
       "\n",
       "[21613 rows x 8 columns]"
      ]
     },
     "execution_count": 57,
     "metadata": {},
     "output_type": "execute_result"
    }
   ],
   "source": [
    "data = pd.read_csv(\"bd_all_datasets/house_data.csv\", index_col=0)\n",
    "data"
   ]
  },
  {
   "cell_type": "code",
   "execution_count": 58,
   "metadata": {},
   "outputs": [
    {
     "data": {
      "text/html": [
       "<div>\n",
       "<style scoped>\n",
       "    .dataframe tbody tr th:only-of-type {\n",
       "        vertical-align: middle;\n",
       "    }\n",
       "\n",
       "    .dataframe tbody tr th {\n",
       "        vertical-align: top;\n",
       "    }\n",
       "\n",
       "    .dataframe thead th {\n",
       "        text-align: right;\n",
       "    }\n",
       "</style>\n",
       "<table border=\"1\" class=\"dataframe\">\n",
       "  <thead>\n",
       "    <tr style=\"text-align: right;\">\n",
       "      <th></th>\n",
       "      <th>price</th>\n",
       "      <th>bedrooms</th>\n",
       "      <th>bathrooms</th>\n",
       "      <th>sqft_living</th>\n",
       "      <th>sqft_lot</th>\n",
       "      <th>floors</th>\n",
       "      <th>yr_built</th>\n",
       "      <th>yr_renovated</th>\n",
       "    </tr>\n",
       "  </thead>\n",
       "  <tbody>\n",
       "    <tr>\n",
       "      <th>count</th>\n",
       "      <td>2.161300e+04</td>\n",
       "      <td>21613.000000</td>\n",
       "      <td>21613.000000</td>\n",
       "      <td>21613.000000</td>\n",
       "      <td>2.161300e+04</td>\n",
       "      <td>21613.000000</td>\n",
       "      <td>21613.000000</td>\n",
       "      <td>21613.000000</td>\n",
       "    </tr>\n",
       "    <tr>\n",
       "      <th>mean</th>\n",
       "      <td>5.400881e+05</td>\n",
       "      <td>3.370842</td>\n",
       "      <td>2.114757</td>\n",
       "      <td>2079.899736</td>\n",
       "      <td>1.510697e+04</td>\n",
       "      <td>1.494309</td>\n",
       "      <td>1971.005136</td>\n",
       "      <td>84.402258</td>\n",
       "    </tr>\n",
       "    <tr>\n",
       "      <th>std</th>\n",
       "      <td>3.671272e+05</td>\n",
       "      <td>0.930062</td>\n",
       "      <td>0.770163</td>\n",
       "      <td>918.440897</td>\n",
       "      <td>4.142051e+04</td>\n",
       "      <td>0.539989</td>\n",
       "      <td>29.373411</td>\n",
       "      <td>401.679240</td>\n",
       "    </tr>\n",
       "    <tr>\n",
       "      <th>min</th>\n",
       "      <td>7.500000e+04</td>\n",
       "      <td>0.000000</td>\n",
       "      <td>0.000000</td>\n",
       "      <td>290.000000</td>\n",
       "      <td>5.200000e+02</td>\n",
       "      <td>1.000000</td>\n",
       "      <td>1900.000000</td>\n",
       "      <td>0.000000</td>\n",
       "    </tr>\n",
       "    <tr>\n",
       "      <th>25%</th>\n",
       "      <td>3.219500e+05</td>\n",
       "      <td>3.000000</td>\n",
       "      <td>1.750000</td>\n",
       "      <td>1427.000000</td>\n",
       "      <td>5.040000e+03</td>\n",
       "      <td>1.000000</td>\n",
       "      <td>1951.000000</td>\n",
       "      <td>0.000000</td>\n",
       "    </tr>\n",
       "    <tr>\n",
       "      <th>50%</th>\n",
       "      <td>4.500000e+05</td>\n",
       "      <td>3.000000</td>\n",
       "      <td>2.250000</td>\n",
       "      <td>1910.000000</td>\n",
       "      <td>7.618000e+03</td>\n",
       "      <td>1.500000</td>\n",
       "      <td>1975.000000</td>\n",
       "      <td>0.000000</td>\n",
       "    </tr>\n",
       "    <tr>\n",
       "      <th>75%</th>\n",
       "      <td>6.450000e+05</td>\n",
       "      <td>4.000000</td>\n",
       "      <td>2.500000</td>\n",
       "      <td>2550.000000</td>\n",
       "      <td>1.068800e+04</td>\n",
       "      <td>2.000000</td>\n",
       "      <td>1997.000000</td>\n",
       "      <td>0.000000</td>\n",
       "    </tr>\n",
       "    <tr>\n",
       "      <th>max</th>\n",
       "      <td>7.700000e+06</td>\n",
       "      <td>33.000000</td>\n",
       "      <td>8.000000</td>\n",
       "      <td>13540.000000</td>\n",
       "      <td>1.651359e+06</td>\n",
       "      <td>3.500000</td>\n",
       "      <td>2015.000000</td>\n",
       "      <td>2015.000000</td>\n",
       "    </tr>\n",
       "  </tbody>\n",
       "</table>\n",
       "</div>"
      ],
      "text/plain": [
       "              price      bedrooms     bathrooms   sqft_living      sqft_lot  \\\n",
       "count  2.161300e+04  21613.000000  21613.000000  21613.000000  2.161300e+04   \n",
       "mean   5.400881e+05      3.370842      2.114757   2079.899736  1.510697e+04   \n",
       "std    3.671272e+05      0.930062      0.770163    918.440897  4.142051e+04   \n",
       "min    7.500000e+04      0.000000      0.000000    290.000000  5.200000e+02   \n",
       "25%    3.219500e+05      3.000000      1.750000   1427.000000  5.040000e+03   \n",
       "50%    4.500000e+05      3.000000      2.250000   1910.000000  7.618000e+03   \n",
       "75%    6.450000e+05      4.000000      2.500000   2550.000000  1.068800e+04   \n",
       "max    7.700000e+06     33.000000      8.000000  13540.000000  1.651359e+06   \n",
       "\n",
       "             floors      yr_built  yr_renovated  \n",
       "count  21613.000000  21613.000000  21613.000000  \n",
       "mean       1.494309   1971.005136     84.402258  \n",
       "std        0.539989     29.373411    401.679240  \n",
       "min        1.000000   1900.000000      0.000000  \n",
       "25%        1.000000   1951.000000      0.000000  \n",
       "50%        1.500000   1975.000000      0.000000  \n",
       "75%        2.000000   1997.000000      0.000000  \n",
       "max        3.500000   2015.000000   2015.000000  "
      ]
     },
     "execution_count": 58,
     "metadata": {},
     "output_type": "execute_result"
    }
   ],
   "source": [
    "data.describe()"
   ]
  },
  {
   "cell_type": "markdown",
   "metadata": {},
   "source": [
    "Bestimmen Sie die aus der Vorlesung bekannten statistischen Kennzahlen __Mittelwert__, __Median__, __Varianz__ und __Standardabweichung__ für jedes Attribut und geben Sie diese aus."
   ]
  },
  {
   "cell_type": "markdown",
   "metadata": {},
   "source": [
    "#### Mittelwert"
   ]
  },
  {
   "cell_type": "code",
   "execution_count": 59,
   "metadata": {},
   "outputs": [
    {
     "data": {
      "text/plain": [
       "price           540088.141767\n",
       "bedrooms             3.370842\n",
       "bathrooms            2.114757\n",
       "sqft_living       2079.899736\n",
       "sqft_lot         15106.967566\n",
       "floors               1.494309\n",
       "yr_built          1971.005136\n",
       "yr_renovated        84.402258\n",
       "dtype: float64"
      ]
     },
     "execution_count": 59,
     "metadata": {},
     "output_type": "execute_result"
    }
   ],
   "source": [
    "data.mean()"
   ]
  },
  {
   "cell_type": "markdown",
   "metadata": {},
   "source": [
    "#### Median"
   ]
  },
  {
   "cell_type": "code",
   "execution_count": 60,
   "metadata": {},
   "outputs": [
    {
     "data": {
      "text/plain": [
       "price           450000.00\n",
       "bedrooms             3.00\n",
       "bathrooms            2.25\n",
       "sqft_living       1910.00\n",
       "sqft_lot          7618.00\n",
       "floors               1.50\n",
       "yr_built          1975.00\n",
       "yr_renovated         0.00\n",
       "dtype: float64"
      ]
     },
     "execution_count": 60,
     "metadata": {},
     "output_type": "execute_result"
    }
   ],
   "source": [
    "data.median()"
   ]
  },
  {
   "cell_type": "markdown",
   "metadata": {},
   "source": [
    "#### Varianz"
   ]
  },
  {
   "cell_type": "code",
   "execution_count": 61,
   "metadata": {},
   "outputs": [
    {
     "data": {
      "text/plain": [
       "price           1.347824e+11\n",
       "bedrooms        8.650150e-01\n",
       "bathrooms       5.931513e-01\n",
       "sqft_living     8.435337e+05\n",
       "sqft_lot        1.715659e+09\n",
       "floors          2.915880e-01\n",
       "yr_built        8.627973e+02\n",
       "yr_renovated    1.613462e+05\n",
       "dtype: float64"
      ]
     },
     "execution_count": 61,
     "metadata": {},
     "output_type": "execute_result"
    }
   ],
   "source": [
    "data.var()"
   ]
  },
  {
   "cell_type": "markdown",
   "metadata": {},
   "source": [
    "#### Standardabweichung"
   ]
  },
  {
   "cell_type": "code",
   "execution_count": 62,
   "metadata": {},
   "outputs": [
    {
     "data": {
      "text/plain": [
       "price           367127.196483\n",
       "bedrooms             0.930062\n",
       "bathrooms            0.770163\n",
       "sqft_living        918.440897\n",
       "sqft_lot         41420.511515\n",
       "floors               0.539989\n",
       "yr_built            29.373411\n",
       "yr_renovated       401.679240\n",
       "dtype: float64"
      ]
     },
     "execution_count": 62,
     "metadata": {},
     "output_type": "execute_result"
    }
   ],
   "source": [
    "data.std()"
   ]
  },
  {
   "cell_type": "markdown",
   "metadata": {},
   "source": [
    "## Aufgabe 1.3"
   ]
  },
  {
   "cell_type": "markdown",
   "metadata": {},
   "source": [
    "Betrachten Sie weiterhin die Datenmenge aus __Aufgabe 1.2__ und prüfen Sie welche Attribute einen linearen Zusammenhang besitzen. Erstellen Sie dazu eine Korrelationsmatrix als Heatmap und geben Sie diese aus. (Eine Heatmap bietet die Bibliothek seaborn an!)."
   ]
  },
  {
   "cell_type": "markdown",
   "metadata": {},
   "source": [
    "### Imports"
   ]
  },
  {
   "cell_type": "code",
   "execution_count": 63,
   "metadata": {},
   "outputs": [],
   "source": [
    "import seaborn as sns\n",
    "import matplotlib.pyplot as plt"
   ]
  },
  {
   "cell_type": "code",
   "execution_count": 64,
   "metadata": {},
   "outputs": [
    {
     "data": {
      "text/html": [
       "<div>\n",
       "<style scoped>\n",
       "    .dataframe tbody tr th:only-of-type {\n",
       "        vertical-align: middle;\n",
       "    }\n",
       "\n",
       "    .dataframe tbody tr th {\n",
       "        vertical-align: top;\n",
       "    }\n",
       "\n",
       "    .dataframe thead th {\n",
       "        text-align: right;\n",
       "    }\n",
       "</style>\n",
       "<table border=\"1\" class=\"dataframe\">\n",
       "  <thead>\n",
       "    <tr style=\"text-align: right;\">\n",
       "      <th></th>\n",
       "      <th>price</th>\n",
       "      <th>bedrooms</th>\n",
       "      <th>bathrooms</th>\n",
       "      <th>sqft_living</th>\n",
       "      <th>sqft_lot</th>\n",
       "      <th>floors</th>\n",
       "      <th>yr_built</th>\n",
       "      <th>yr_renovated</th>\n",
       "    </tr>\n",
       "  </thead>\n",
       "  <tbody>\n",
       "    <tr>\n",
       "      <th>price</th>\n",
       "      <td>1.000000</td>\n",
       "      <td>0.308350</td>\n",
       "      <td>0.525138</td>\n",
       "      <td>0.702035</td>\n",
       "      <td>0.089661</td>\n",
       "      <td>0.256794</td>\n",
       "      <td>0.054012</td>\n",
       "      <td>0.126434</td>\n",
       "    </tr>\n",
       "    <tr>\n",
       "      <th>bedrooms</th>\n",
       "      <td>0.308350</td>\n",
       "      <td>1.000000</td>\n",
       "      <td>0.515884</td>\n",
       "      <td>0.576671</td>\n",
       "      <td>0.031703</td>\n",
       "      <td>0.175429</td>\n",
       "      <td>0.154178</td>\n",
       "      <td>0.018841</td>\n",
       "    </tr>\n",
       "    <tr>\n",
       "      <th>bathrooms</th>\n",
       "      <td>0.525138</td>\n",
       "      <td>0.515884</td>\n",
       "      <td>1.000000</td>\n",
       "      <td>0.754665</td>\n",
       "      <td>0.087740</td>\n",
       "      <td>0.500653</td>\n",
       "      <td>0.506019</td>\n",
       "      <td>0.050739</td>\n",
       "    </tr>\n",
       "    <tr>\n",
       "      <th>sqft_living</th>\n",
       "      <td>0.702035</td>\n",
       "      <td>0.576671</td>\n",
       "      <td>0.754665</td>\n",
       "      <td>1.000000</td>\n",
       "      <td>0.172826</td>\n",
       "      <td>0.353949</td>\n",
       "      <td>0.318049</td>\n",
       "      <td>0.055363</td>\n",
       "    </tr>\n",
       "    <tr>\n",
       "      <th>sqft_lot</th>\n",
       "      <td>0.089661</td>\n",
       "      <td>0.031703</td>\n",
       "      <td>0.087740</td>\n",
       "      <td>0.172826</td>\n",
       "      <td>1.000000</td>\n",
       "      <td>-0.005201</td>\n",
       "      <td>0.053080</td>\n",
       "      <td>0.007644</td>\n",
       "    </tr>\n",
       "    <tr>\n",
       "      <th>floors</th>\n",
       "      <td>0.256794</td>\n",
       "      <td>0.175429</td>\n",
       "      <td>0.500653</td>\n",
       "      <td>0.353949</td>\n",
       "      <td>-0.005201</td>\n",
       "      <td>1.000000</td>\n",
       "      <td>0.489319</td>\n",
       "      <td>0.006338</td>\n",
       "    </tr>\n",
       "    <tr>\n",
       "      <th>yr_built</th>\n",
       "      <td>0.054012</td>\n",
       "      <td>0.154178</td>\n",
       "      <td>0.506019</td>\n",
       "      <td>0.318049</td>\n",
       "      <td>0.053080</td>\n",
       "      <td>0.489319</td>\n",
       "      <td>1.000000</td>\n",
       "      <td>-0.224874</td>\n",
       "    </tr>\n",
       "    <tr>\n",
       "      <th>yr_renovated</th>\n",
       "      <td>0.126434</td>\n",
       "      <td>0.018841</td>\n",
       "      <td>0.050739</td>\n",
       "      <td>0.055363</td>\n",
       "      <td>0.007644</td>\n",
       "      <td>0.006338</td>\n",
       "      <td>-0.224874</td>\n",
       "      <td>1.000000</td>\n",
       "    </tr>\n",
       "  </tbody>\n",
       "</table>\n",
       "</div>"
      ],
      "text/plain": [
       "                 price  bedrooms  bathrooms  sqft_living  sqft_lot    floors  \\\n",
       "price         1.000000  0.308350   0.525138     0.702035  0.089661  0.256794   \n",
       "bedrooms      0.308350  1.000000   0.515884     0.576671  0.031703  0.175429   \n",
       "bathrooms     0.525138  0.515884   1.000000     0.754665  0.087740  0.500653   \n",
       "sqft_living   0.702035  0.576671   0.754665     1.000000  0.172826  0.353949   \n",
       "sqft_lot      0.089661  0.031703   0.087740     0.172826  1.000000 -0.005201   \n",
       "floors        0.256794  0.175429   0.500653     0.353949 -0.005201  1.000000   \n",
       "yr_built      0.054012  0.154178   0.506019     0.318049  0.053080  0.489319   \n",
       "yr_renovated  0.126434  0.018841   0.050739     0.055363  0.007644  0.006338   \n",
       "\n",
       "              yr_built  yr_renovated  \n",
       "price         0.054012      0.126434  \n",
       "bedrooms      0.154178      0.018841  \n",
       "bathrooms     0.506019      0.050739  \n",
       "sqft_living   0.318049      0.055363  \n",
       "sqft_lot      0.053080      0.007644  \n",
       "floors        0.489319      0.006338  \n",
       "yr_built      1.000000     -0.224874  \n",
       "yr_renovated -0.224874      1.000000  "
      ]
     },
     "execution_count": 64,
     "metadata": {},
     "output_type": "execute_result"
    }
   ],
   "source": [
    "data.corr()"
   ]
  },
  {
   "cell_type": "code",
   "execution_count": 76,
   "metadata": {},
   "outputs": [
    {
     "data": {
      "text/plain": [
       "<Axes: >"
      ]
     },
     "execution_count": 76,
     "metadata": {},
     "output_type": "execute_result"
    },
    {
     "data": {
      "image/png": "[encoded data removed]",
      "text/plain": [
       "<Figure size 800x800 with 2 Axes>"
      ]
     },
     "metadata": {},
     "output_type": "display_data"
    }
   ],
   "source": [
    "fig,ax = plt.subplots(figsize=(8,8))\n",
    "sns.heatmap(data.corr(), vmin=-1 , annot=True)"
   ]
  },
  {
   "cell_type": "markdown",
   "metadata": {},
   "source": [
    "Welche Attribute korrelieren miteinander und welche nicht?"
   ]
  },
  {
   "cell_type": "markdown",
   "metadata": {},
   "source": [
    "- Der Preis korreliert mit der größe des Wohnzimmers und die Wohnzimmergröße mit der Anzahl der Badezimmer\n",
    "- Die Anzahl der Etagen korreliert nicht mit der Größe des Grundstücks"
   ]
  },
  {
   "cell_type": "markdown",
   "metadata": {},
   "source": [
    "## Aufgabe 1.4"
   ]
  },
  {
   "cell_type": "markdown",
   "metadata": {},
   "source": [
    "Die Merkmale sqft living und sqft lot befinden sich in der Einheit Quadratfuß. Rechnen Sie diese Merkmale in die Einheit Quadratmeter um. Dazu konnen Sie den Umrechnungsfaktor 1 Quadratfuß = 0,092903 Quadratmeter verwenden."
   ]
  },
  {
   "cell_type": "code",
   "execution_count": 66,
   "metadata": {},
   "outputs": [],
   "source": [
    "def sqft_to_sqm(v: float) -> float:\n",
    "    return v * 0.092903"
   ]
  },
  {
   "cell_type": "code",
   "execution_count": 67,
   "metadata": {},
   "outputs": [
    {
     "data": {
      "text/html": [
       "<div>\n",
       "<style scoped>\n",
       "    .dataframe tbody tr th:only-of-type {\n",
       "        vertical-align: middle;\n",
       "    }\n",
       "\n",
       "    .dataframe tbody tr th {\n",
       "        vertical-align: top;\n",
       "    }\n",
       "\n",
       "    .dataframe thead th {\n",
       "        text-align: right;\n",
       "    }\n",
       "</style>\n",
       "<table border=\"1\" class=\"dataframe\">\n",
       "  <thead>\n",
       "    <tr style=\"text-align: right;\">\n",
       "      <th></th>\n",
       "      <th>price</th>\n",
       "      <th>bedrooms</th>\n",
       "      <th>bathrooms</th>\n",
       "      <th>sqft_living</th>\n",
       "      <th>sqft_lot</th>\n",
       "      <th>floors</th>\n",
       "      <th>yr_built</th>\n",
       "      <th>yr_renovated</th>\n",
       "      <th>sqm_living</th>\n",
       "      <th>sqm_lot</th>\n",
       "    </tr>\n",
       "    <tr>\n",
       "      <th>ID</th>\n",
       "      <th></th>\n",
       "      <th></th>\n",
       "      <th></th>\n",
       "      <th></th>\n",
       "      <th></th>\n",
       "      <th></th>\n",
       "      <th></th>\n",
       "      <th></th>\n",
       "      <th></th>\n",
       "      <th></th>\n",
       "    </tr>\n",
       "  </thead>\n",
       "  <tbody>\n",
       "    <tr>\n",
       "      <th>0</th>\n",
       "      <td>221900.0</td>\n",
       "      <td>3</td>\n",
       "      <td>1.00</td>\n",
       "      <td>1180</td>\n",
       "      <td>5650</td>\n",
       "      <td>1.0</td>\n",
       "      <td>1955</td>\n",
       "      <td>0</td>\n",
       "      <td>109.62554</td>\n",
       "      <td>524.901950</td>\n",
       "    </tr>\n",
       "    <tr>\n",
       "      <th>1</th>\n",
       "      <td>538000.0</td>\n",
       "      <td>3</td>\n",
       "      <td>2.25</td>\n",
       "      <td>2570</td>\n",
       "      <td>7242</td>\n",
       "      <td>2.0</td>\n",
       "      <td>1951</td>\n",
       "      <td>1991</td>\n",
       "      <td>238.76071</td>\n",
       "      <td>672.803526</td>\n",
       "    </tr>\n",
       "    <tr>\n",
       "      <th>2</th>\n",
       "      <td>180000.0</td>\n",
       "      <td>2</td>\n",
       "      <td>1.00</td>\n",
       "      <td>770</td>\n",
       "      <td>10000</td>\n",
       "      <td>1.0</td>\n",
       "      <td>1933</td>\n",
       "      <td>0</td>\n",
       "      <td>71.53531</td>\n",
       "      <td>929.030000</td>\n",
       "    </tr>\n",
       "    <tr>\n",
       "      <th>3</th>\n",
       "      <td>604000.0</td>\n",
       "      <td>4</td>\n",
       "      <td>3.00</td>\n",
       "      <td>1960</td>\n",
       "      <td>5000</td>\n",
       "      <td>1.0</td>\n",
       "      <td>1965</td>\n",
       "      <td>0</td>\n",
       "      <td>182.08988</td>\n",
       "      <td>464.515000</td>\n",
       "    </tr>\n",
       "    <tr>\n",
       "      <th>4</th>\n",
       "      <td>510000.0</td>\n",
       "      <td>3</td>\n",
       "      <td>2.00</td>\n",
       "      <td>1680</td>\n",
       "      <td>8080</td>\n",
       "      <td>1.0</td>\n",
       "      <td>1987</td>\n",
       "      <td>0</td>\n",
       "      <td>156.07704</td>\n",
       "      <td>750.656240</td>\n",
       "    </tr>\n",
       "    <tr>\n",
       "      <th>...</th>\n",
       "      <td>...</td>\n",
       "      <td>...</td>\n",
       "      <td>...</td>\n",
       "      <td>...</td>\n",
       "      <td>...</td>\n",
       "      <td>...</td>\n",
       "      <td>...</td>\n",
       "      <td>...</td>\n",
       "      <td>...</td>\n",
       "      <td>...</td>\n",
       "    </tr>\n",
       "    <tr>\n",
       "      <th>21608</th>\n",
       "      <td>360000.0</td>\n",
       "      <td>3</td>\n",
       "      <td>2.50</td>\n",
       "      <td>1530</td>\n",
       "      <td>1131</td>\n",
       "      <td>3.0</td>\n",
       "      <td>2009</td>\n",
       "      <td>0</td>\n",
       "      <td>142.14159</td>\n",
       "      <td>105.073293</td>\n",
       "    </tr>\n",
       "    <tr>\n",
       "      <th>21609</th>\n",
       "      <td>400000.0</td>\n",
       "      <td>4</td>\n",
       "      <td>2.50</td>\n",
       "      <td>2310</td>\n",
       "      <td>5813</td>\n",
       "      <td>2.0</td>\n",
       "      <td>2014</td>\n",
       "      <td>0</td>\n",
       "      <td>214.60593</td>\n",
       "      <td>540.045139</td>\n",
       "    </tr>\n",
       "    <tr>\n",
       "      <th>21610</th>\n",
       "      <td>402101.0</td>\n",
       "      <td>2</td>\n",
       "      <td>0.75</td>\n",
       "      <td>1020</td>\n",
       "      <td>1350</td>\n",
       "      <td>2.0</td>\n",
       "      <td>2009</td>\n",
       "      <td>0</td>\n",
       "      <td>94.76106</td>\n",
       "      <td>125.419050</td>\n",
       "    </tr>\n",
       "    <tr>\n",
       "      <th>21611</th>\n",
       "      <td>400000.0</td>\n",
       "      <td>3</td>\n",
       "      <td>2.50</td>\n",
       "      <td>1600</td>\n",
       "      <td>2388</td>\n",
       "      <td>2.0</td>\n",
       "      <td>2004</td>\n",
       "      <td>0</td>\n",
       "      <td>148.64480</td>\n",
       "      <td>221.852364</td>\n",
       "    </tr>\n",
       "    <tr>\n",
       "      <th>21612</th>\n",
       "      <td>325000.0</td>\n",
       "      <td>2</td>\n",
       "      <td>0.75</td>\n",
       "      <td>1020</td>\n",
       "      <td>1076</td>\n",
       "      <td>2.0</td>\n",
       "      <td>2008</td>\n",
       "      <td>0</td>\n",
       "      <td>94.76106</td>\n",
       "      <td>99.963628</td>\n",
       "    </tr>\n",
       "  </tbody>\n",
       "</table>\n",
       "<p>21613 rows × 10 columns</p>\n",
       "</div>"
      ],
      "text/plain": [
       "          price  bedrooms  bathrooms  sqft_living  sqft_lot  floors  yr_built  \\\n",
       "ID                                                                              \n",
       "0      221900.0         3       1.00         1180      5650     1.0      1955   \n",
       "1      538000.0         3       2.25         2570      7242     2.0      1951   \n",
       "2      180000.0         2       1.00          770     10000     1.0      1933   \n",
       "3      604000.0         4       3.00         1960      5000     1.0      1965   \n",
       "4      510000.0         3       2.00         1680      8080     1.0      1987   \n",
       "...         ...       ...        ...          ...       ...     ...       ...   \n",
       "21608  360000.0         3       2.50         1530      1131     3.0      2009   \n",
       "21609  400000.0         4       2.50         2310      5813     2.0      2014   \n",
       "21610  402101.0         2       0.75         1020      1350     2.0      2009   \n",
       "21611  400000.0         3       2.50         1600      2388     2.0      2004   \n",
       "21612  325000.0         2       0.75         1020      1076     2.0      2008   \n",
       "\n",
       "       yr_renovated  sqm_living     sqm_lot  \n",
       "ID                                           \n",
       "0                 0   109.62554  524.901950  \n",
       "1              1991   238.76071  672.803526  \n",
       "2                 0    71.53531  929.030000  \n",
       "3                 0   182.08988  464.515000  \n",
       "4                 0   156.07704  750.656240  \n",
       "...             ...         ...         ...  \n",
       "21608             0   142.14159  105.073293  \n",
       "21609             0   214.60593  540.045139  \n",
       "21610             0    94.76106  125.419050  \n",
       "21611             0   148.64480  221.852364  \n",
       "21612             0    94.76106   99.963628  \n",
       "\n",
       "[21613 rows x 10 columns]"
      ]
     },
     "execution_count": 67,
     "metadata": {},
     "output_type": "execute_result"
    }
   ],
   "source": [
    "data[\"sqm_living\"] = sqft_to_sqm(data.sqft_living)\n",
    "data[\"sqm_lot\"] = sqft_to_sqm(data.sqft_lot)\n",
    "data"
   ]
  },
  {
   "cell_type": "markdown",
   "metadata": {},
   "source": [
    "## Aufgabe 1.4"
   ]
  },
  {
   "cell_type": "markdown",
   "metadata": {},
   "source": [
    "#### Wie teuer ist das Haus mit dem größten Wohnzimmer?"
   ]
  },
  {
   "cell_type": "code",
   "execution_count": 68,
   "metadata": {},
   "outputs": [
    {
     "data": {
      "text/plain": [
       "2280000.0"
      ]
     },
     "execution_count": 68,
     "metadata": {},
     "output_type": "execute_result"
    }
   ],
   "source": [
    "data.loc[data[\"sqm_living\"].idxmax()][\"price\"]"
   ]
  },
  {
   "cell_type": "markdown",
   "metadata": {},
   "source": [
    "#### Wie viele Häuser wurden zwischen 1990 und 2010 gebaut?"
   ]
  },
  {
   "cell_type": "code",
   "execution_count": 69,
   "metadata": {},
   "outputs": [
    {
     "data": {
      "text/plain": [
       "5899"
      ]
     },
     "execution_count": 69,
     "metadata": {},
     "output_type": "execute_result"
    }
   ],
   "source": [
    "# 1990 <= yr_built <= 2010\n",
    "# len(data[(data.yr_built >= 1990) & (data.yr_built <= 2010)])\n",
    "len(data[data[\"yr_built\"].between(1990, 2010)])"
   ]
  },
  {
   "cell_type": "markdown",
   "metadata": {},
   "source": [
    "#### Wie teuer ist das renovierte Haus mit dem kleinsten Grundstück?"
   ]
  },
  {
   "cell_type": "code",
   "execution_count": 70,
   "metadata": {},
   "outputs": [
    {
     "data": {
      "text/plain": [
       "price           440000.000000\n",
       "bedrooms             2.000000\n",
       "bathrooms            1.500000\n",
       "sqft_living       1120.000000\n",
       "sqft_lot          1024.000000\n",
       "floors               2.000000\n",
       "yr_built          1970.000000\n",
       "yr_renovated      1998.000000\n",
       "sqm_living         104.051360\n",
       "sqm_lot             95.132672\n",
       "Name: 10892, dtype: float64"
      ]
     },
     "execution_count": 70,
     "metadata": {},
     "output_type": "execute_result"
    }
   ],
   "source": [
    "data.loc[data[data[\"yr_renovated\"] > 0][\"sqm_lot\"].idxmin()]\n",
    "#data.loc[data[data[\"yr_renovated\"] > 0][\"sqm_lot\"].idxmin()][\"price\"]"
   ]
  },
  {
   "cell_type": "markdown",
   "metadata": {},
   "source": [
    "#### Wie viele Häuser haben ein Wohnzimmer, dass 70m² groß oder größer ist?"
   ]
  },
  {
   "cell_type": "code",
   "execution_count": 71,
   "metadata": {},
   "outputs": [
    {
     "data": {
      "text/plain": [
       "21300"
      ]
     },
     "execution_count": 71,
     "metadata": {},
     "output_type": "execute_result"
    }
   ],
   "source": [
    "\n",
    "len(data[data[\"sqm_living\"] >= 70])\n",
    "#data[data[\"sqm_living\"] >= 70]"
   ]
  },
  {
   "cell_type": "markdown",
   "metadata": {},
   "source": [
    "#### In welchem Jahr wurde das günstigste Haus mit 2 Stockwerken gebaut?"
   ]
  },
  {
   "cell_type": "code",
   "execution_count": 72,
   "metadata": {},
   "outputs": [
    {
     "data": {
      "text/plain": [
       "1969.0"
      ]
     },
     "execution_count": 72,
     "metadata": {},
     "output_type": "execute_result"
    }
   ],
   "source": [
    "data.loc[data[data[\"floors\"] == 2][\"price\"].idxmin()][\"yr_built\"]"
   ]
  },
  {
   "cell_type": "markdown",
   "metadata": {},
   "source": [
    "#### Welche Häuser haben 3 Stockwerke und einen überdurchschnittlichen Preis obwohl sie eine unterdurchschnittliche Anzahl an Schlafzimmern und Badezimmern haben?"
   ]
  },
  {
   "cell_type": "code",
   "execution_count": 73,
   "metadata": {},
   "outputs": [
    {
     "data": {
      "text/html": [
       "<div>\n",
       "<style scoped>\n",
       "    .dataframe tbody tr th:only-of-type {\n",
       "        vertical-align: middle;\n",
       "    }\n",
       "\n",
       "    .dataframe tbody tr th {\n",
       "        vertical-align: top;\n",
       "    }\n",
       "\n",
       "    .dataframe thead th {\n",
       "        text-align: right;\n",
       "    }\n",
       "</style>\n",
       "<table border=\"1\" class=\"dataframe\">\n",
       "  <thead>\n",
       "    <tr style=\"text-align: right;\">\n",
       "      <th></th>\n",
       "      <th>price</th>\n",
       "      <th>bedrooms</th>\n",
       "      <th>bathrooms</th>\n",
       "      <th>sqft_living</th>\n",
       "      <th>sqft_lot</th>\n",
       "      <th>floors</th>\n",
       "      <th>yr_built</th>\n",
       "      <th>yr_renovated</th>\n",
       "      <th>sqm_living</th>\n",
       "      <th>sqm_lot</th>\n",
       "    </tr>\n",
       "    <tr>\n",
       "      <th>ID</th>\n",
       "      <th></th>\n",
       "      <th></th>\n",
       "      <th></th>\n",
       "      <th></th>\n",
       "      <th></th>\n",
       "      <th></th>\n",
       "      <th></th>\n",
       "      <th></th>\n",
       "      <th></th>\n",
       "      <th></th>\n",
       "    </tr>\n",
       "  </thead>\n",
       "  <tbody>\n",
       "    <tr>\n",
       "      <th>63</th>\n",
       "      <td>549000.0</td>\n",
       "      <td>3</td>\n",
       "      <td>1.75</td>\n",
       "      <td>1540</td>\n",
       "      <td>1044</td>\n",
       "      <td>3.0</td>\n",
       "      <td>2014</td>\n",
       "      <td>0</td>\n",
       "      <td>143.07062</td>\n",
       "      <td>96.990732</td>\n",
       "    </tr>\n",
       "    <tr>\n",
       "      <th>6034</th>\n",
       "      <td>680000.0</td>\n",
       "      <td>2</td>\n",
       "      <td>2.00</td>\n",
       "      <td>1450</td>\n",
       "      <td>989</td>\n",
       "      <td>3.0</td>\n",
       "      <td>2014</td>\n",
       "      <td>0</td>\n",
       "      <td>134.70935</td>\n",
       "      <td>91.881067</td>\n",
       "    </tr>\n",
       "    <tr>\n",
       "      <th>6977</th>\n",
       "      <td>690000.0</td>\n",
       "      <td>3</td>\n",
       "      <td>2.00</td>\n",
       "      <td>1770</td>\n",
       "      <td>1800</td>\n",
       "      <td>3.0</td>\n",
       "      <td>1999</td>\n",
       "      <td>0</td>\n",
       "      <td>164.43831</td>\n",
       "      <td>167.225400</td>\n",
       "    </tr>\n",
       "    <tr>\n",
       "      <th>15105</th>\n",
       "      <td>660000.0</td>\n",
       "      <td>3</td>\n",
       "      <td>2.00</td>\n",
       "      <td>1770</td>\n",
       "      <td>2150</td>\n",
       "      <td>3.0</td>\n",
       "      <td>1999</td>\n",
       "      <td>0</td>\n",
       "      <td>164.43831</td>\n",
       "      <td>199.741450</td>\n",
       "    </tr>\n",
       "    <tr>\n",
       "      <th>18655</th>\n",
       "      <td>1388000.0</td>\n",
       "      <td>3</td>\n",
       "      <td>1.25</td>\n",
       "      <td>2400</td>\n",
       "      <td>6653</td>\n",
       "      <td>3.0</td>\n",
       "      <td>1992</td>\n",
       "      <td>0</td>\n",
       "      <td>222.96720</td>\n",
       "      <td>618.083659</td>\n",
       "    </tr>\n",
       "    <tr>\n",
       "      <th>19863</th>\n",
       "      <td>649000.0</td>\n",
       "      <td>3</td>\n",
       "      <td>2.00</td>\n",
       "      <td>1530</td>\n",
       "      <td>1442</td>\n",
       "      <td>3.0</td>\n",
       "      <td>2015</td>\n",
       "      <td>0</td>\n",
       "      <td>142.14159</td>\n",
       "      <td>133.966126</td>\n",
       "    </tr>\n",
       "    <tr>\n",
       "      <th>19882</th>\n",
       "      <td>622500.0</td>\n",
       "      <td>2</td>\n",
       "      <td>1.75</td>\n",
       "      <td>1510</td>\n",
       "      <td>851</td>\n",
       "      <td>3.0</td>\n",
       "      <td>2013</td>\n",
       "      <td>0</td>\n",
       "      <td>140.28353</td>\n",
       "      <td>79.060453</td>\n",
       "    </tr>\n",
       "    <tr>\n",
       "      <th>20081</th>\n",
       "      <td>599000.0</td>\n",
       "      <td>3</td>\n",
       "      <td>1.75</td>\n",
       "      <td>1650</td>\n",
       "      <td>1180</td>\n",
       "      <td>3.0</td>\n",
       "      <td>2014</td>\n",
       "      <td>0</td>\n",
       "      <td>153.28995</td>\n",
       "      <td>109.625540</td>\n",
       "    </tr>\n",
       "    <tr>\n",
       "      <th>20097</th>\n",
       "      <td>667000.0</td>\n",
       "      <td>3</td>\n",
       "      <td>1.75</td>\n",
       "      <td>1370</td>\n",
       "      <td>1921</td>\n",
       "      <td>3.0</td>\n",
       "      <td>2007</td>\n",
       "      <td>0</td>\n",
       "      <td>127.27711</td>\n",
       "      <td>178.466663</td>\n",
       "    </tr>\n",
       "    <tr>\n",
       "      <th>20134</th>\n",
       "      <td>548000.0</td>\n",
       "      <td>2</td>\n",
       "      <td>2.00</td>\n",
       "      <td>1370</td>\n",
       "      <td>1878</td>\n",
       "      <td>3.0</td>\n",
       "      <td>2004</td>\n",
       "      <td>0</td>\n",
       "      <td>127.27711</td>\n",
       "      <td>174.471834</td>\n",
       "    </tr>\n",
       "    <tr>\n",
       "      <th>20361</th>\n",
       "      <td>609500.0</td>\n",
       "      <td>3</td>\n",
       "      <td>1.75</td>\n",
       "      <td>1590</td>\n",
       "      <td>1113</td>\n",
       "      <td>3.0</td>\n",
       "      <td>2014</td>\n",
       "      <td>0</td>\n",
       "      <td>147.71577</td>\n",
       "      <td>103.401039</td>\n",
       "    </tr>\n",
       "    <tr>\n",
       "      <th>20415</th>\n",
       "      <td>609000.0</td>\n",
       "      <td>3</td>\n",
       "      <td>1.75</td>\n",
       "      <td>1630</td>\n",
       "      <td>1526</td>\n",
       "      <td>3.0</td>\n",
       "      <td>2014</td>\n",
       "      <td>0</td>\n",
       "      <td>151.43189</td>\n",
       "      <td>141.769978</td>\n",
       "    </tr>\n",
       "    <tr>\n",
       "      <th>20492</th>\n",
       "      <td>670000.0</td>\n",
       "      <td>2</td>\n",
       "      <td>2.00</td>\n",
       "      <td>1500</td>\n",
       "      <td>761</td>\n",
       "      <td>3.0</td>\n",
       "      <td>2008</td>\n",
       "      <td>0</td>\n",
       "      <td>139.35450</td>\n",
       "      <td>70.699183</td>\n",
       "    </tr>\n",
       "    <tr>\n",
       "      <th>20567</th>\n",
       "      <td>700000.0</td>\n",
       "      <td>2</td>\n",
       "      <td>2.00</td>\n",
       "      <td>1490</td>\n",
       "      <td>713</td>\n",
       "      <td>3.0</td>\n",
       "      <td>2014</td>\n",
       "      <td>0</td>\n",
       "      <td>138.42547</td>\n",
       "      <td>66.239839</td>\n",
       "    </tr>\n",
       "    <tr>\n",
       "      <th>20951</th>\n",
       "      <td>720000.0</td>\n",
       "      <td>2</td>\n",
       "      <td>1.75</td>\n",
       "      <td>1570</td>\n",
       "      <td>1108</td>\n",
       "      <td>3.0</td>\n",
       "      <td>2007</td>\n",
       "      <td>0</td>\n",
       "      <td>145.85771</td>\n",
       "      <td>102.936524</td>\n",
       "    </tr>\n",
       "    <tr>\n",
       "      <th>20960</th>\n",
       "      <td>580000.0</td>\n",
       "      <td>3</td>\n",
       "      <td>1.50</td>\n",
       "      <td>1320</td>\n",
       "      <td>1250</td>\n",
       "      <td>3.0</td>\n",
       "      <td>2008</td>\n",
       "      <td>0</td>\n",
       "      <td>122.63196</td>\n",
       "      <td>116.128750</td>\n",
       "    </tr>\n",
       "    <tr>\n",
       "      <th>21142</th>\n",
       "      <td>695000.0</td>\n",
       "      <td>2</td>\n",
       "      <td>1.75</td>\n",
       "      <td>1570</td>\n",
       "      <td>1207</td>\n",
       "      <td>3.0</td>\n",
       "      <td>2007</td>\n",
       "      <td>0</td>\n",
       "      <td>145.85771</td>\n",
       "      <td>112.133921</td>\n",
       "    </tr>\n",
       "    <tr>\n",
       "      <th>21176</th>\n",
       "      <td>687015.0</td>\n",
       "      <td>3</td>\n",
       "      <td>1.75</td>\n",
       "      <td>1470</td>\n",
       "      <td>873</td>\n",
       "      <td>3.0</td>\n",
       "      <td>2009</td>\n",
       "      <td>0</td>\n",
       "      <td>136.56741</td>\n",
       "      <td>81.104319</td>\n",
       "    </tr>\n",
       "    <tr>\n",
       "      <th>21200</th>\n",
       "      <td>720000.0</td>\n",
       "      <td>3</td>\n",
       "      <td>1.75</td>\n",
       "      <td>1370</td>\n",
       "      <td>1990</td>\n",
       "      <td>3.0</td>\n",
       "      <td>2014</td>\n",
       "      <td>0</td>\n",
       "      <td>127.27711</td>\n",
       "      <td>184.876970</td>\n",
       "    </tr>\n",
       "    <tr>\n",
       "      <th>21498</th>\n",
       "      <td>610000.0</td>\n",
       "      <td>3</td>\n",
       "      <td>1.75</td>\n",
       "      <td>1630</td>\n",
       "      <td>1500</td>\n",
       "      <td>3.0</td>\n",
       "      <td>2014</td>\n",
       "      <td>0</td>\n",
       "      <td>151.43189</td>\n",
       "      <td>139.354500</td>\n",
       "    </tr>\n",
       "    <tr>\n",
       "      <th>21534</th>\n",
       "      <td>599000.0</td>\n",
       "      <td>3</td>\n",
       "      <td>1.75</td>\n",
       "      <td>1650</td>\n",
       "      <td>1180</td>\n",
       "      <td>3.0</td>\n",
       "      <td>2014</td>\n",
       "      <td>0</td>\n",
       "      <td>153.28995</td>\n",
       "      <td>109.625540</td>\n",
       "    </tr>\n",
       "  </tbody>\n",
       "</table>\n",
       "</div>"
      ],
      "text/plain": [
       "           price  bedrooms  bathrooms  sqft_living  sqft_lot  floors  \\\n",
       "ID                                                                     \n",
       "63      549000.0         3       1.75         1540      1044     3.0   \n",
       "6034    680000.0         2       2.00         1450       989     3.0   \n",
       "6977    690000.0         3       2.00         1770      1800     3.0   \n",
       "15105   660000.0         3       2.00         1770      2150     3.0   \n",
       "18655  1388000.0         3       1.25         2400      6653     3.0   \n",
       "19863   649000.0         3       2.00         1530      1442     3.0   \n",
       "19882   622500.0         2       1.75         1510       851     3.0   \n",
       "20081   599000.0         3       1.75         1650      1180     3.0   \n",
       "20097   667000.0         3       1.75         1370      1921     3.0   \n",
       "20134   548000.0         2       2.00         1370      1878     3.0   \n",
       "20361   609500.0         3       1.75         1590      1113     3.0   \n",
       "20415   609000.0         3       1.75         1630      1526     3.0   \n",
       "20492   670000.0         2       2.00         1500       761     3.0   \n",
       "20567   700000.0         2       2.00         1490       713     3.0   \n",
       "20951   720000.0         2       1.75         1570      1108     3.0   \n",
       "20960   580000.0         3       1.50         1320      1250     3.0   \n",
       "21142   695000.0         2       1.75         1570      1207     3.0   \n",
       "21176   687015.0         3       1.75         1470       873     3.0   \n",
       "21200   720000.0         3       1.75         1370      1990     3.0   \n",
       "21498   610000.0         3       1.75         1630      1500     3.0   \n",
       "21534   599000.0         3       1.75         1650      1180     3.0   \n",
       "\n",
       "       yr_built  yr_renovated  sqm_living     sqm_lot  \n",
       "ID                                                     \n",
       "63         2014             0   143.07062   96.990732  \n",
       "6034       2014             0   134.70935   91.881067  \n",
       "6977       1999             0   164.43831  167.225400  \n",
       "15105      1999             0   164.43831  199.741450  \n",
       "18655      1992             0   222.96720  618.083659  \n",
       "19863      2015             0   142.14159  133.966126  \n",
       "19882      2013             0   140.28353   79.060453  \n",
       "20081      2014             0   153.28995  109.625540  \n",
       "20097      2007             0   127.27711  178.466663  \n",
       "20134      2004             0   127.27711  174.471834  \n",
       "20361      2014             0   147.71577  103.401039  \n",
       "20415      2014             0   151.43189  141.769978  \n",
       "20492      2008             0   139.35450   70.699183  \n",
       "20567      2014             0   138.42547   66.239839  \n",
       "20951      2007             0   145.85771  102.936524  \n",
       "20960      2008             0   122.63196  116.128750  \n",
       "21142      2007             0   145.85771  112.133921  \n",
       "21176      2009             0   136.56741   81.104319  \n",
       "21200      2014             0   127.27711  184.876970  \n",
       "21498      2014             0   151.43189  139.354500  \n",
       "21534      2014             0   153.28995  109.625540  "
      ]
     },
     "execution_count": 73,
     "metadata": {},
     "output_type": "execute_result"
    }
   ],
   "source": [
    "data[\n",
    "    (data[\"floors\"] == 3) \n",
    "    & (data[\"price\"] > data[\"price\"].mean()) \n",
    "    & (data[\"bedrooms\"] < data[\"bedrooms\"].mean()) \n",
    "    & (data[\"bathrooms\"] < data[\"bathrooms\"].mean())\n",
    "]"
   ]
  }
 ],
 "metadata": {
  "kernelspec": {
   "display_name": "Python 3 (ipykernel)",
   "language": "python",
   "name": "python3"
  },
  "language_info": {
   "codemirror_mode": {
    "name": "ipython",
    "version": 3
   },
   "file_extension": ".py",
   "mimetype": "text/x-python",
   "name": "python",
   "nbconvert_exporter": "python",
   "pygments_lexer": "ipython3",
   "version": "3.11.7"
  }
 },
 "nbformat": 4,
 "nbformat_minor": 4
}
