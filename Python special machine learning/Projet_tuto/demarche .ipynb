{
 "cells": [
  {
   "cell_type": "markdown",
   "id": "13ed71c8",
   "metadata": {},
   "source": [
    "# 1. Définir un objectif mesurable:\n",
    "   - Objectif : Prédire si une personne est infectée en fonction des données cliniques disponibles.\n",
    "   - Métrique: \n",
    "   \n",
    "    - Précision\n",
    "    - Recall(sensibilité): 70%\n",
    "    - Score F1: 50%\n",
    "\n",
    "# 2. EDA (Exploratory Data Analysis)\n",
    "\n",
    "# 3. Pre-processing\n",
    "\n",
    "# Modelling"
   ]
  },
  {
   "cell_type": "code",
   "execution_count": null,
   "id": "1c86d2d0",
   "metadata": {},
   "outputs": [],
   "source": []
  },
  {
   "cell_type": "markdown",
   "id": "4cca98f6",
   "metadata": {},
   "source": [
    "# Exploratory Data Analysis\n",
    "\n",
    "### Objectif : \n",
    "Comprendre au maximum les données dont on dispose pour definir une strategie de modelisation.\n",
    "\n",
    "### Check list de base(non-exhaustive):\n",
    "#### Analyse de la forme:\n",
    "   - Identification de la target\n",
    "   - Nombre de lignes et colonnes\n",
    "   - Type de variablesµ\n",
    "   - Identification des valeurs manquantes\n",
    "#### Analyse du fond:\n",
    "   - Visualisation de la target(Histogramme/Boxplot)\n",
    "   - Comprehension des differentes variables(Internet)\n",
    "   - Visualisation des relations Feature-Target(Histogramme/Boxplot)\n",
    "   - Identification des outliers"
   ]
  },
  {
   "cell_type": "code",
   "execution_count": null,
   "id": "e2074537",
   "metadata": {},
   "outputs": [],
   "source": []
  },
  {
   "cell_type": "markdown",
   "id": "caa66f98",
   "metadata": {},
   "source": [
    "# Pre- Processing\n",
    "\n",
    "### Objectif:\n",
    "Transformer le data pour le mettre dans un format propice au Machine Learning.\n",
    "\n",
    "### Check list de base(non-exhaustive):\n",
    "   - Creation du Train set/ Test set\n",
    "   - Elimination des NaN : dropna(), imputation, colonnes (vides)\n",
    "   - Encodage\n",
    "   - Suppression des outliers néfastes au modèle\n",
    "   - Feature Selection\n",
    "   - Feature Engineering\n",
    "   - Feature Scaling\n",
    "   "
   ]
  },
  {
   "cell_type": "code",
   "execution_count": null,
   "id": "b0a5fbe4",
   "metadata": {},
   "outputs": [],
   "source": []
  },
  {
   "cell_type": "markdown",
   "id": "d01a16be",
   "metadata": {},
   "source": [
    "# Modelling\n",
    "\n",
    "### Objectif:\n",
    "Developper un modèle de machine learning qui repond à l'objectif final.\n",
    "\n",
    "### Check list de base(non-exhaustive):\n",
    "   - Definir une fonction d'évaluation\n",
    "   - Entraînement de differents modèles\n",
    "   - ptimisation avec GridSearchCV\n",
    "   - Analyse des erreurs et retour au Preprocessing/EDA (optionnel)\n",
    "   - Learning Curve et prise de decision"
   ]
  },
  {
   "cell_type": "code",
   "execution_count": null,
   "id": "fe3d4b0a",
   "metadata": {},
   "outputs": [],
   "source": []
  }
 ],
 "metadata": {
  "kernelspec": {
   "display_name": "Python 3 (ipykernel)",
   "language": "python",
   "name": "python3"
  },
  "language_info": {
   "codemirror_mode": {
    "name": "ipython",
    "version": 3
   },
   "file_extension": ".py",
   "mimetype": "text/x-python",
   "name": "python",
   "nbconvert_exporter": "python",
   "pygments_lexer": "ipython3",
   "version": "3.11.7"
  }
 },
 "nbformat": 4,
 "nbformat_minor": 5
}
